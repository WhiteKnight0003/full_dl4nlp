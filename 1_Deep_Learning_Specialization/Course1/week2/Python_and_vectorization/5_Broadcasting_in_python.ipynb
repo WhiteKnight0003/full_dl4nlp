{
 "cells": [
  {
   "cell_type": "markdown",
   "id": "d763ba28",
   "metadata": {},
   "source": [
    "#  Broadcasting trong NumPy áp dụng cho tất cả các phép toán +, -, *, /, //, %, **, v.v."
   ]
  },
  {
   "cell_type": "markdown",
   "id": "41177e39",
   "metadata": {},
   "source": [
    "# Quy tắc Broadcasting:\n",
    "- NumPy so sánh shape từ chiều cuối về đầu:\n",
    "\n",
    "- Hai chiều tương thích nếu:\n",
    "    + Bằng nhau, HOẶC\n",
    "    + Một trong hai bằng 1, HOẶC\n",
    "    + Một trong hai không tồn tại"
   ]
  },
  {
   "cell_type": "markdown",
   "id": "4901ce07",
   "metadata": {},
   "source": [
    "# Dot và *\n",
    "- dấu * \n",
    "- Phép nhân element-wise (Hadamard product):\n",
    "- Nhân từng phần tử tương ứng với nhau\n",
    "- Yêu cầu cùng shape hoặc có thể broadcasting\n",
    "-\n",
    "-\n",
    "- Dot - Phép nhân ma trận (Matrix multiplication):\n",
    "- Nhân ma trận theo quy tắc đại số tuyến tính\n",
    "- Shape phải tương thích: (m,n) × (n,p) = (m,p)"
   ]
  },
  {
   "cell_type": "code",
   "execution_count": 7,
   "id": "45e6be0a",
   "metadata": {},
   "outputs": [
    {
     "name": "stdout",
     "output_type": "stream",
     "text": [
      "[[ 56.    0.    4.4  68. ]\n",
      " [  1.2 104.   52.    8. ]\n",
      " [  1.8 135.   99.    0.9]]\n",
      "(3, 4)\n"
     ]
    }
   ],
   "source": [
    "import numpy as np\n",
    "\n",
    "A = np.array([[56, 0, 4.4, 68],\n",
    "             [1.2, 104, 52, 8],\n",
    "             [1.8 , 135, 99, 0.9]])\n",
    "print(A)\n",
    "print(A.shape)"
   ]
  },
  {
   "cell_type": "code",
   "execution_count": null,
   "id": "e3825645",
   "metadata": {},
   "outputs": [
    {
     "name": "stdout",
     "output_type": "stream",
     "text": [
      "[ 59.  239.  155.4  76.9]\n",
      "(4,)\n"
     ]
    }
   ],
   "source": [
    "column = A.sum(axis=0) # sum of column \n",
    "print(column) # Array 1 chiều"
   ]
  },
  {
   "cell_type": "code",
   "execution_count": null,
   "id": "42c4fb04",
   "metadata": {},
   "outputs": [
    {
     "name": "stdout",
     "output_type": "stream",
     "text": [
      "[[94.91525424  0.          2.83140283 88.42652796]\n",
      " [ 2.03389831 43.51464435 33.46203346 10.40312094]\n",
      " [ 3.05084746 56.48535565 63.70656371  1.17035111]]\n"
     ]
    }
   ],
   "source": [
    "percentage = 100*A/column.reshape(1,4) # có reshape hay không cũng được   # reshape : đổi thành 1 hàng 4 cột \n",
    "# tính % của từng phần tử trong cột dựa theo tổng của cột đó \n",
    "print(percentage)"
   ]
  },
  {
   "cell_type": "code",
   "execution_count": 17,
   "id": "b493a692",
   "metadata": {},
   "outputs": [
    {
     "name": "stdout",
     "output_type": "stream",
     "text": [
      "[[101 202 303]\n",
      " [104 205 306]]\n"
     ]
    }
   ],
   "source": [
    "B = np.array([[1,2,3],\n",
    "              [4,5,6]]) #(2x3)\n",
    "C = np.array([100,200,300]) # (1x3) \n",
    "# khi làm phép cộng python sẽ tự biến đổi C thành - chỉ cộng được khi là ma trận 1xn và ma trận có kích thước bằng nó\n",
    "# nếu cộng 2 ma trận 2x3 và 3x3 thì sẽ không được\n",
    "# C = [[100,200,300], \n",
    "#      [100,200,300]]\n",
    "print(B+C)"
   ]
  },
  {
   "cell_type": "code",
   "execution_count": null,
   "id": "cd2bda36",
   "metadata": {},
   "outputs": [
    {
     "ename": "ValueError",
     "evalue": "operands could not be broadcast together with shapes (3,3) (2,1) ",
     "output_type": "error",
     "traceback": [
      "\u001b[1;31m---------------------------------------------------------------------------\u001b[0m",
      "\u001b[1;31mValueError\u001b[0m                                Traceback (most recent call last)",
      "Cell \u001b[1;32mIn[21], line 8\u001b[0m\n\u001b[0;32m      4\u001b[0m E \u001b[38;5;241m=\u001b[39m np\u001b[38;5;241m.\u001b[39marray([[\u001b[38;5;241m100\u001b[39m],\n\u001b[0;32m      5\u001b[0m               [\u001b[38;5;241m200\u001b[39m]]) \u001b[38;5;66;03m# (2x1) - nó sẽ cộng theo hàng \u001b[39;00m\n\u001b[0;32m      6\u001b[0m F \u001b[38;5;241m=\u001b[39m np\u001b[38;5;241m.\u001b[39marray([[\u001b[38;5;241m100\u001b[39m,\u001b[38;5;241m300\u001b[39m],\n\u001b[0;32m      7\u001b[0m               [\u001b[38;5;241m200\u001b[39m,\u001b[38;5;241m400\u001b[39m]])\n\u001b[1;32m----> 8\u001b[0m \u001b[38;5;28mprint\u001b[39m(D\u001b[38;5;241m+\u001b[39mE)\n",
      "\u001b[1;31mValueError\u001b[0m: operands could not be broadcast together with shapes (3,3) (2,1) "
     ]
    }
   ],
   "source": [
    "D =  np.array([[1,2,3],\n",
    "              [4,5,6]]) # (2x3) - nếu (3x3) thì không cộng được với (2x1)\n",
    "E = np.array([[100],\n",
    "              [200]]) # (2x1) - nó sẽ cộng theo hàng \n",
    "F = np.array([[100,300],\n",
    "              [200,400]])\n",
    "print(D+E)\n",
    "#print(D+F) # (2,3) (2,2)  không thể cộng "
   ]
  }
 ],
 "metadata": {
  "kernelspec": {
   "display_name": "env_python",
   "language": "python",
   "name": "python3"
  },
  "language_info": {
   "codemirror_mode": {
    "name": "ipython",
    "version": 3
   },
   "file_extension": ".py",
   "mimetype": "text/x-python",
   "name": "python",
   "nbconvert_exporter": "python",
   "pygments_lexer": "ipython3",
   "version": "3.11.11"
  }
 },
 "nbformat": 4,
 "nbformat_minor": 5
}
