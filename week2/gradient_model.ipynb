{
 "cells": [
  {
   "cell_type": "markdown",
   "id": "a3ef94ff",
   "metadata": {},
   "source": [
    "# ✅ Gradient Descent dùng cho rất nhiều loại mô hình: "
   ]
  },
  {
   "cell_type": "markdown",
   "id": "b2568d73",
   "metadata": {},
   "source": [
    "\n",
    "1 . Linear regression (hồi quy tuyến tính):\n",
    "- Dễ nhất, cost là MSE.\n",
    "- Hàm mất mát là hàm bậc hai → hàm lồi (convex) → dễ tối ưu.\n",
    "\n",
    "2 . Logistic regression (phân loại nhị phân):\n",
    "- Dùng sigmoid và binary cross-entropy.\n",
    "- Gradient descent vẫn được dùng để cập nhật  w,b.\n",
    "\n",
    "3 . Neural networks (mạng nơ-ron):\n",
    "- Gradient descent là xương sống.\n",
    "- Dùng thuật toán backpropagation để tính đạo hàm cho từng layer.\n",
    "\n",
    "4 . Multiclass classification:\n",
    "- Dùng softmax + categorical cross-entropy.\n",
    "- Cập nhật toàn bộ trọng số mạng nhờ gradient.\n",
    "\n",
    "5 . Deep learning phức tạp (GANs, Autoencoders, RNNs, Transformers…):\n",
    "- Dù mô hình có hàng triệu tham số, thì vẫn dùng gradient descent (thường dưới dạng biến thể như SGD, Adam, RMSProp,…)."
   ]
  },
  {
   "cell_type": "markdown",
   "id": "ad8eabc7",
   "metadata": {},
   "source": [
    "# 📊 Các biến thể của Gradient Descent:"
   ]
  },
  {
   "cell_type": "markdown",
   "id": "ac60171c",
   "metadata": {},
   "source": [
    "| Tên                                   | Đặc điểm                                  | Khi nào dùng               |\n",
    "| ------------------------------------- | ----------------------------------------- | -------------------------- |\n",
    "| **Batch Gradient Descent**            | Dùng toàn bộ tập dữ liệu để tính gradient | Khi dữ liệu nhỏ            |\n",
    "| **Stochastic Gradient Descent (SGD)** | Dùng từng mẫu một                         | Khi dữ liệu lớn, cần nhanh |\n",
    "| **Mini-Batch Gradient Descent**       | Dùng từng lô nhỏ (batch size = 32, 64…)   | Phổ biến nhất hiện nay     |\n",
    "| **Adam, RMSProp, AdaGrad…**           | Biến thể giúp hội tụ nhanh, tránh mắc kẹt | Deep learning phức tạp     |\n"
   ]
  }
 ],
 "metadata": {
  "language_info": {
   "name": "python"
  }
 },
 "nbformat": 4,
 "nbformat_minor": 5
}
