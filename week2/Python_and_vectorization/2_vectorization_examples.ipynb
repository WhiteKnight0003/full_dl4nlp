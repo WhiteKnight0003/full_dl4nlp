{
 "cells": [
  {
   "cell_type": "code",
   "execution_count": null,
   "id": "a038b35b",
   "metadata": {},
   "outputs": [
    {
     "name": "stdout",
     "output_type": "stream",
     "text": [
      "[1. 2. 3. 4.]\n"
     ]
    }
   ],
   "source": [
    "import numpy as np\n",
    "\n",
    "v = np.array([1,2,3,4])\n",
    "u = np.exp(v) # tính  array  e^v \n",
    "\n",
    "# tương tự ta có các hàm\n",
    "a = np.log(v) # ln\n",
    "b = np.abs(v) \n",
    "c = np.maximum(v,a) # np.maximum(x, y) so sánh từng phần tử giữa 2 array và trả về giá trị lớn hơn\n",
    "\n",
    "print(c)"
   ]
  }
 ],
 "metadata": {
  "kernelspec": {
   "display_name": "env_python",
   "language": "python",
   "name": "python3"
  },
  "language_info": {
   "codemirror_mode": {
    "name": "ipython",
    "version": 3
   },
   "file_extension": ".py",
   "mimetype": "text/x-python",
   "name": "python",
   "nbconvert_exporter": "python",
   "pygments_lexer": "ipython3",
   "version": "3.11.11"
  }
 },
 "nbformat": 4,
 "nbformat_minor": 5
}
