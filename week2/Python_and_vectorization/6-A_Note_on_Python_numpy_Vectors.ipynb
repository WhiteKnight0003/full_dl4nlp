{
 "cells": [
  {
   "cell_type": "code",
   "execution_count": 1,
   "id": "10d95671",
   "metadata": {},
   "outputs": [],
   "source": [
    "import numpy as np\n",
    "\n",
    "a = np.random.randn(5)"
   ]
  },
  {
   "cell_type": "code",
   "execution_count": null,
   "id": "62058d91",
   "metadata": {},
   "outputs": [
    {
     "name": "stdout",
     "output_type": "stream",
     "text": [
      "[ 0.84545838  0.29561824  0.09682498 -0.63298623  0.72932844]\n",
      "(5,)\n",
      "(5,)\n"
     ]
    }
   ],
   "source": [
    "print(a)\n",
    "print(a.shape)\n",
    "a = a.T \n",
    "print(a.shape)\n",
    "#Array 1 chiều (5,) không phải là vector hàng hay vector cột, nó chỉ là một dãy số. Chuyển vị của nó vẫn là chính nó."
   ]
  },
  {
   "cell_type": "code",
   "execution_count": 3,
   "id": "2d5f3524",
   "metadata": {},
   "outputs": [
    {
     "name": "stdout",
     "output_type": "stream",
     "text": [
      "[[1 4]\n",
      " [2 5]\n",
      " [3 6]]\n"
     ]
    }
   ],
   "source": [
    "b = np.array([[1,2,3],\n",
    "              [4,5,6]])\n",
    "print(b.T)"
   ]
  },
  {
   "cell_type": "markdown",
   "id": "d394bb30",
   "metadata": {},
   "source": [
    "# Hàm assert"
   ]
  },
  {
   "cell_type": "code",
   "execution_count": null,
   "id": "be569a55",
   "metadata": {},
   "outputs": [
    {
     "name": "stdout",
     "output_type": "stream",
     "text": [
      "Tiếp tục chạy...\n"
     ]
    },
    {
     "ename": "AssertionError",
     "evalue": "Expected (3,1) but got (3,)",
     "output_type": "error",
     "traceback": [
      "\u001b[1;31m---------------------------------------------------------------------------\u001b[0m",
      "\u001b[1;31mAssertionError\u001b[0m                            Traceback (most recent call last)",
      "Cell \u001b[1;32mIn[6], line 13\u001b[0m\n\u001b[0;32m      6\u001b[0m \u001b[38;5;66;03m# # 2. Điều kiện sai - chương trình dừng:\u001b[39;00m\n\u001b[0;32m      7\u001b[0m \u001b[38;5;66;03m# b = np.array([1, 2, 3])\u001b[39;00m\n\u001b[0;32m      8\u001b[0m \u001b[38;5;66;03m# assert(b.shape == (3, 1))  # AssertionError!   - điều kiện sai - dừng luôn - k chạy print nữa\u001b[39;00m\n\u001b[0;32m      9\u001b[0m \u001b[38;5;66;03m# print(\"Dòng này không được thực hiện\")\u001b[39;00m\n\u001b[0;32m     10\u001b[0m \n\u001b[0;32m     11\u001b[0m \u001b[38;5;66;03m# 3. Thêm thông báo lỗi:\u001b[39;00m\n\u001b[0;32m     12\u001b[0m c \u001b[38;5;241m=\u001b[39m np\u001b[38;5;241m.\u001b[39marray([\u001b[38;5;241m1\u001b[39m, \u001b[38;5;241m2\u001b[39m, \u001b[38;5;241m3\u001b[39m])\n\u001b[1;32m---> 13\u001b[0m \u001b[38;5;28;01massert\u001b[39;00m(c\u001b[38;5;241m.\u001b[39mshape \u001b[38;5;241m==\u001b[39m (\u001b[38;5;241m3\u001b[39m, \u001b[38;5;241m1\u001b[39m)), \u001b[38;5;124mf\u001b[39m\u001b[38;5;124m\"\u001b[39m\u001b[38;5;124mExpected (3,1) but got \u001b[39m\u001b[38;5;132;01m{\u001b[39;00mc\u001b[38;5;241m.\u001b[39mshape\u001b[38;5;132;01m}\u001b[39;00m\u001b[38;5;124m\"\u001b[39m\n",
      "\u001b[1;31mAssertionError\u001b[0m: Expected (3,1) but got (3,)"
     ]
    }
   ],
   "source": [
    "# 1. Điều kiện đúng - không có gì xảy ra:\n",
    "a = np.array([[1], [2], [3]])\n",
    "assert(a.shape == (3, 1))  # OK\n",
    "print(\"Tiếp tục chạy...\")\n",
    "\n",
    "# # 2. Điều kiện sai - chương trình dừng:\n",
    "# b = np.array([1, 2, 3])\n",
    "# assert(b.shape == (3, 1))  # AssertionError!   - điều kiện sai - dừng luôn - k chạy print nữa\n",
    "# print(\"Dòng này không được thực hiện\")\n",
    "\n",
    "# 3. Thêm thông báo lỗi:\n",
    "c = np.array([1, 2, 3])\n",
    "assert(c.shape == (3, 1)), f\"Expected (3,1) but got {c.shape}\" # sai thì thông báo lỗi\n"
   ]
  }
 ],
 "metadata": {
  "kernelspec": {
   "display_name": "env_python",
   "language": "python",
   "name": "python3"
  },
  "language_info": {
   "codemirror_mode": {
    "name": "ipython",
    "version": 3
   },
   "file_extension": ".py",
   "mimetype": "text/x-python",
   "name": "python",
   "nbconvert_exporter": "python",
   "pygments_lexer": "ipython3",
   "version": "3.11.11"
  }
 },
 "nbformat": 4,
 "nbformat_minor": 5
}
